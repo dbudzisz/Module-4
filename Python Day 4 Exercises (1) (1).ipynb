{
 "cells": [
  {
   "cell_type": "markdown",
   "metadata": {},
   "source": [
    "1. Create a dictionary named pairs with key value pairs of hello and fire, 3 and seven, strong and 45. Print out the dictionary."
   ]
  },
  {
   "cell_type": "code",
   "execution_count": 2,
   "metadata": {},
   "outputs": [
    {
     "name": "stdout",
     "output_type": "stream",
     "text": [
      "{'hello': 'fire', 3: 'seven', 'strong': 45}\n"
     ]
    }
   ],
   "source": [
    "pairs = {'hello':'fire', 3:'seven', 'strong':45}\n",
    "print(pairs)"
   ]
  },
  {
   "cell_type": "markdown",
   "metadata": {},
   "source": [
    "2. Add welcome and 56 pair into pairs dictionary. Print out the dictionary. "
   ]
  },
  {
   "cell_type": "code",
   "execution_count": 3,
   "metadata": {},
   "outputs": [
    {
     "name": "stdout",
     "output_type": "stream",
     "text": [
      "{'hello': 'fire', 3: 'seven', 'strong': 45, 'welcome': 56}\n"
     ]
    }
   ],
   "source": [
    "pairs['welcome'] = 56\n",
    "print(pairs)"
   ]
  },
  {
   "cell_type": "markdown",
   "metadata": {},
   "source": [
    "3. Delete one item from the Dictionary. Print deleted item and the dictionary."
   ]
  },
  {
   "cell_type": "code",
   "execution_count": 4,
   "metadata": {},
   "outputs": [
    {
     "name": "stdout",
     "output_type": "stream",
     "text": [
      "This is the deleted item: ('welcome', 56)\n",
      "This is the updated dictionary: {'hello': 'fire', 3: 'seven', 'strong': 45}\n"
     ]
    }
   ],
   "source": [
    "new_pair = pairs.popitem()\n",
    "\n",
    "print(f'This is the deleted item: {new_pair}')\n",
    "print(f'This is the updated dictionary: {pairs}')"
   ]
  },
  {
   "cell_type": "markdown",
   "metadata": {},
   "source": [
    "4. Print the value of an item where key is 3 from the dicitonary"
   ]
  },
  {
   "cell_type": "code",
   "execution_count": 10,
   "metadata": {},
   "outputs": [
    {
     "name": "stdout",
     "output_type": "stream",
     "text": [
      "This is the value to the key 3 :seven\n"
     ]
    }
   ],
   "source": [
    "value = pairs[3]\n",
    "print(f'This is the value to the key 3 :{value}')"
   ]
  },
  {
   "cell_type": "markdown",
   "metadata": {},
   "source": [
    "5. Try to find out if the key called hello exist. Print out the key is found if it is there otherwise print out the key is not there."
   ]
  },
  {
   "cell_type": "code",
   "execution_count": 13,
   "metadata": {},
   "outputs": [
    {
     "name": "stdout",
     "output_type": "stream",
     "text": [
      "The key hello is found.\n"
     ]
    }
   ],
   "source": [
    "if 'hello' in pairs:\n",
    "    print(\"The key hello is found.\")\n",
    "else:\n",
    "    print('The key hello is not there.')"
   ]
  },
  {
   "cell_type": "markdown",
   "metadata": {},
   "source": [
    "6. Loop through the dictionary and print out each value. "
   ]
  },
  {
   "cell_type": "code",
   "execution_count": 16,
   "metadata": {},
   "outputs": [
    {
     "name": "stdout",
     "output_type": "stream",
     "text": [
      "fire\n",
      "seven\n",
      "45\n"
     ]
    }
   ],
   "source": [
    "for value in pairs.values():\n",
    "    print(value)\n",
    "    "
   ]
  },
  {
   "cell_type": "markdown",
   "metadata": {},
   "source": [
    "7. Loop through the dictionary and print out each key."
   ]
  },
  {
   "cell_type": "code",
   "execution_count": 20,
   "metadata": {},
   "outputs": [
    {
     "name": "stdout",
     "output_type": "stream",
     "text": [
      "hello\n",
      "3\n",
      "strong\n"
     ]
    }
   ],
   "source": [
    "for key in pairs.keys():\n",
    "    print(key)"
   ]
  },
  {
   "cell_type": "markdown",
   "metadata": {},
   "source": [
    "8. Loop through the dictionary and print out each key and value pair. "
   ]
  },
  {
   "cell_type": "code",
   "execution_count": 25,
   "metadata": {},
   "outputs": [
    {
     "name": "stdout",
     "output_type": "stream",
     "text": [
      "Value --> hello \t Key --> fire\n",
      "**************************************************\n",
      "\n",
      "\n",
      "Value --> 3 \t Key --> seven\n",
      "**************************************************\n",
      "\n",
      "\n",
      "Value --> strong \t Key --> 45\n",
      "**************************************************\n",
      "\n",
      "\n"
     ]
    }
   ],
   "source": [
    "for v,k in pairs.items():\n",
    "    print(f'Value --> {v} \\t Key --> {k}')\n",
    "    print('*'*50)\n",
    "    print('\\n')\n",
    "          "
   ]
  },
  {
   "cell_type": "markdown",
   "metadata": {},
   "source": [
    "9. Make a nested dictionary called parent with 2 children's information: name, age, gender. Print out parent."
   ]
  },
  {
   "cell_type": "code",
   "execution_count": 26,
   "metadata": {},
   "outputs": [
    {
     "name": "stdout",
     "output_type": "stream",
     "text": [
      "{'Geroge': {10: 'Male'}, 'Juliette': {18: 'Female'}}\n"
     ]
    }
   ],
   "source": [
    "child_one_nested = {10: 'Male'}\n",
    "child_two_nested = {18: 'Female'}\n",
    "\n",
    "parent = {'Geroge': child_one_nested, 'Juliette': child_two_nested}\n",
    "\n",
    "print(parent)"
   ]
  },
  {
   "cell_type": "markdown",
   "metadata": {},
   "source": [
    "10. Add new child to above dictionary. Print out the name of all children."
   ]
  },
  {
   "cell_type": "code",
   "execution_count": 28,
   "metadata": {},
   "outputs": [
    {
     "name": "stdout",
     "output_type": "stream",
     "text": [
      "Geroge\n",
      "Juliette\n",
      "Blake\n"
     ]
    }
   ],
   "source": [
    "child_three_nested = {25:'Male'}\n",
    "parent['Blake'] = child_three_nested\n",
    "\n",
    "for key in parent.keys():\n",
    "    print(key)"
   ]
  },
  {
   "cell_type": "markdown",
   "metadata": {},
   "source": [
    "11. Create a Test Scores program that gets the name of students and test score from a user. Then, generate a list of students who passed and a list of students who failed where passing test score is 60 or above. "
   ]
  },
  {
   "cell_type": "code",
   "execution_count": 50,
   "metadata": {},
   "outputs": [
    {
     "name": "stdout",
     "output_type": "stream",
     "text": [
      "Please enter the student's name or 'done' to quit: don\n",
      "Please enter the student's grade: 89\n",
      "Please enter the student's name or 'done' to quit: Jim\n",
      "Please enter the student's grade: 90\n",
      "Please enter the student's name or 'done' to quit: Dave\n",
      "Please enter the student's grade: 55\n",
      "Please enter the student's name or 'done' to quit: done\n",
      "\n",
      " ********************\n",
      "The following students passed: ['don', 'Jim']\n",
      "The following students failed: ['Dave']\n"
     ]
    }
   ],
   "source": [
    "pass_student_name = []\n",
    "fail_student_name = []\n",
    "\n",
    "while True :\n",
    "    student = input('Please enter the student\\'s name or \\'done\\' to quit: ')\n",
    "    if student == 'done':\n",
    "        break \n",
    "    \n",
    "    grade = int(input('Please enter the student\\'s grade: '))\n",
    "    \n",
    "    if grade >= 60:\n",
    "        pass_student_name.append(student)\n",
    "    else:\n",
    "        fail_student_name.append(student)\n",
    "\n",
    "print('\\n', '*'*20)\n",
    "print(f'The following students passed: {pass_student_name}')\n",
    "print(f'The following students failed: {fail_student_name}')\n",
    "    \n",
    "    "
   ]
  },
  {
   "cell_type": "markdown",
   "metadata": {},
   "source": [
    "12. Create a Word Counter program that gets a string of text from a user and then counts the number of times a word occrs in the string. \n",
    "\n",
    "The output should look something like this:\n",
    "\n",
    "    The Word Counter Program\n",
    "    \n",
    "    Enter a text string: \n",
    "    Humpty Dumpty sat on a wall, Humpty Dumpty had a great fall. All the king’s horses and all the king’s men couldn’t put Humpty together again.\n",
    "\n",
    "    a : 2\n",
    "    again : 1\n",
    "    all : 2\n",
    "    and : 1\n",
    "    couldn’t : 1\n",
    "    dumpty : 2\n",
    "    fall : 1\n",
    "    great : 1\n",
    "    had : 1\n",
    "    horses : 1\n",
    "    humpty : 3\n",
    "    king’s : 2\n",
    "    men : 1\n",
    "    on : 1\n",
    "    put : 1\n",
    "    sat : 1\n",
    "    the : 2\n",
    "    together : 1\n",
    "    wall : 1\n",
    "\n",
    "    There were total 26 words in the text string   "
   ]
  },
  {
   "cell_type": "code",
   "execution_count": 154,
   "metadata": {},
   "outputs": [
    {
     "name": "stdout",
     "output_type": "stream",
     "text": [
      "The Word Counter Program \n",
      "\n",
      "Enter a text string: \n",
      "Humpty Dumpty sat on a wall, Humpty Dumpty had a great fall. All the king’s horses and all the king’s men couldn’t put Humpty together again.\n",
      "\n",
      "\n",
      "All : 1\n",
      "Dumpty : 2\n",
      "Humpty : 3\n",
      "a : 2\n",
      "again : 1\n",
      "all : 1\n",
      "and : 1\n",
      "couldn’t : 1\n",
      "fall : 1\n",
      "great : 1\n",
      "had : 1\n",
      "horses : 1\n",
      "king’s : 2\n",
      "men : 1\n",
      "on : 1\n",
      "put : 1\n",
      "sat : 1\n",
      "the : 2\n",
      "together : 1\n",
      "wall : 1\n",
      "20\n"
     ]
    }
   ],
   "source": [
    "print('The Word Counter Program','\\n')\n",
    "text = input('Enter a text string: \\n')\n",
    "print('\\n')\n",
    "word_dict = {}\n",
    "tmp = []\n",
    "count = 0 \n",
    "line = text.replace(',', '')\n",
    "wds = line.replace('.', '')\n",
    "words = wds.split()\n",
    "\n",
    "\n",
    "for x in words:\n",
    "    word_dict[x] = word_dict.get(x,0) + 1\n",
    "    \n",
    "for k,v in word_dict.items():\n",
    "    newt = (k,v)\n",
    "    tmp.append(newt)\n",
    "    count += 1\n",
    "tmp = sorted(tmp)    \n",
    "for v,k in tmp:\n",
    "    print(f'{v} : {k}')\n",
    "\n",
    "print('\\n')\n",
    "print(f'There were a total of {count} in)"
   ]
  },
  {
   "cell_type": "code",
   "execution_count": null,
   "metadata": {},
   "outputs": [],
   "source": []
  }
 ],
 "metadata": {
  "kernelspec": {
   "display_name": "Python 3",
   "language": "python",
   "name": "python3"
  },
  "language_info": {
   "codemirror_mode": {
    "name": "ipython",
    "version": 3
   },
   "file_extension": ".py",
   "mimetype": "text/x-python",
   "name": "python",
   "nbconvert_exporter": "python",
   "pygments_lexer": "ipython3",
   "version": "3.8.3"
  }
 },
 "nbformat": 4,
 "nbformat_minor": 4
}
